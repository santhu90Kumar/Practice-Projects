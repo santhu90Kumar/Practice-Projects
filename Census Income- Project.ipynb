{
 "cells": [
  {
   "cell_type": "markdown",
   "metadata": {},
   "source": [
    "# Census Income Project"
   ]
  },
  {
   "cell_type": "code",
   "execution_count": 43,
   "metadata": {},
   "outputs": [],
   "source": [
    "#Importing Required Libraries\n",
    "\n",
    "import pandas as pd\n",
    "import numpy as np\n",
    "import seaborn as sns\n",
    "import sklearn\n",
    "import matplotlib.pyplot as plt\n",
    "import warnings\n",
    "warnings.filterwarnings('ignore')"
   ]
  },
  {
   "cell_type": "code",
   "execution_count": 44,
   "metadata": {},
   "outputs": [
    {
     "name": "stdout",
     "output_type": "stream",
     "text": [
      "       Age          Workclass  Fnlwgt    Education  Education_num  \\\n",
      "0       50   Self-emp-not-inc   83311    Bachelors             13   \n",
      "1       38            Private  215646      HS-grad              9   \n",
      "2       53            Private  234721         11th              7   \n",
      "3       28            Private  338409    Bachelors             13   \n",
      "4       37            Private  284582      Masters             14   \n",
      "...    ...                ...     ...          ...            ...   \n",
      "32555   27            Private  257302   Assoc-acdm             12   \n",
      "32556   40            Private  154374      HS-grad              9   \n",
      "32557   58            Private  151910      HS-grad              9   \n",
      "32558   22            Private  201490      HS-grad              9   \n",
      "32559   52       Self-emp-inc  287927      HS-grad              9   \n",
      "\n",
      "            Marital_status          Occupation    Relationship    Race  \\\n",
      "0       Married-civ-spouse     Exec-managerial         Husband   White   \n",
      "1                 Divorced   Handlers-cleaners   Not-in-family   White   \n",
      "2       Married-civ-spouse   Handlers-cleaners         Husband   Black   \n",
      "3       Married-civ-spouse      Prof-specialty            Wife   Black   \n",
      "4       Married-civ-spouse     Exec-managerial            Wife   White   \n",
      "...                    ...                 ...             ...     ...   \n",
      "32555   Married-civ-spouse        Tech-support            Wife   White   \n",
      "32556   Married-civ-spouse   Machine-op-inspct         Husband   White   \n",
      "32557              Widowed        Adm-clerical       Unmarried   White   \n",
      "32558        Never-married        Adm-clerical       Own-child   White   \n",
      "32559   Married-civ-spouse     Exec-managerial            Wife   White   \n",
      "\n",
      "           Sex  Capital_gain  Capital_loss  Hours_per_week  Native_country  \\\n",
      "0         Male             0             0              13   United-States   \n",
      "1         Male             0             0              40   United-States   \n",
      "2         Male             0             0              40   United-States   \n",
      "3       Female             0             0              40            Cuba   \n",
      "4       Female             0             0              40   United-States   \n",
      "...        ...           ...           ...             ...             ...   \n",
      "32555   Female             0             0              38   United-States   \n",
      "32556     Male             0             0              40   United-States   \n",
      "32557   Female             0             0              40   United-States   \n",
      "32558     Male             0             0              20   United-States   \n",
      "32559   Female         15024             0              40   United-States   \n",
      "\n",
      "       Income  \n",
      "0       <=50K  \n",
      "1       <=50K  \n",
      "2       <=50K  \n",
      "3       <=50K  \n",
      "4       <=50K  \n",
      "...       ...  \n",
      "32555   <=50K  \n",
      "32556    >50K  \n",
      "32557   <=50K  \n",
      "32558   <=50K  \n",
      "32559    >50K  \n",
      "\n",
      "[32560 rows x 15 columns]\n"
     ]
    }
   ],
   "source": [
    "df=pd.read_csv('census_income.csv')\n",
    "print(df)"
   ]
  },
  {
   "cell_type": "code",
   "execution_count": 45,
   "metadata": {},
   "outputs": [
    {
     "name": "stdout",
     "output_type": "stream",
     "text": [
      "<class 'pandas.core.frame.DataFrame'>\n",
      "RangeIndex: 32560 entries, 0 to 32559\n",
      "Data columns (total 15 columns):\n",
      " #   Column          Non-Null Count  Dtype \n",
      "---  ------          --------------  ----- \n",
      " 0   Age             32560 non-null  int64 \n",
      " 1   Workclass       32560 non-null  object\n",
      " 2   Fnlwgt          32560 non-null  int64 \n",
      " 3   Education       32560 non-null  object\n",
      " 4   Education_num   32560 non-null  int64 \n",
      " 5   Marital_status  32560 non-null  object\n",
      " 6   Occupation      32560 non-null  object\n",
      " 7   Relationship    32560 non-null  object\n",
      " 8   Race            32560 non-null  object\n",
      " 9   Sex             32560 non-null  object\n",
      " 10  Capital_gain    32560 non-null  int64 \n",
      " 11  Capital_loss    32560 non-null  int64 \n",
      " 12  Hours_per_week  32560 non-null  int64 \n",
      " 13  Native_country  32560 non-null  object\n",
      " 14  Income          32560 non-null  object\n",
      "dtypes: int64(6), object(9)\n",
      "memory usage: 3.7+ MB\n"
     ]
    }
   ],
   "source": [
    "df.info()"
   ]
  },
  {
   "cell_type": "code",
   "execution_count": 46,
   "metadata": {},
   "outputs": [
    {
     "data": {
      "text/plain": [
       "Age               0\n",
       "Workclass         0\n",
       "Fnlwgt            0\n",
       "Education         0\n",
       "Education_num     0\n",
       "Marital_status    0\n",
       "Occupation        0\n",
       "Relationship      0\n",
       "Race              0\n",
       "Sex               0\n",
       "Capital_gain      0\n",
       "Capital_loss      0\n",
       "Hours_per_week    0\n",
       "Native_country    0\n",
       "Income            0\n",
       "dtype: int64"
      ]
     },
     "execution_count": 46,
     "metadata": {},
     "output_type": "execute_result"
    }
   ],
   "source": [
    "df.isnull().sum()"
   ]
  },
  {
   "cell_type": "code",
   "execution_count": 47,
   "metadata": {},
   "outputs": [
    {
     "data": {
      "text/html": [
       "<div>\n",
       "<style scoped>\n",
       "    .dataframe tbody tr th:only-of-type {\n",
       "        vertical-align: middle;\n",
       "    }\n",
       "\n",
       "    .dataframe tbody tr th {\n",
       "        vertical-align: top;\n",
       "    }\n",
       "\n",
       "    .dataframe thead th {\n",
       "        text-align: right;\n",
       "    }\n",
       "</style>\n",
       "<table border=\"1\" class=\"dataframe\">\n",
       "  <thead>\n",
       "    <tr style=\"text-align: right;\">\n",
       "      <th></th>\n",
       "      <th>Age</th>\n",
       "      <th>Fnlwgt</th>\n",
       "      <th>Education_num</th>\n",
       "      <th>Capital_gain</th>\n",
       "      <th>Capital_loss</th>\n",
       "      <th>Hours_per_week</th>\n",
       "    </tr>\n",
       "  </thead>\n",
       "  <tbody>\n",
       "    <tr>\n",
       "      <th>count</th>\n",
       "      <td>32560.000000</td>\n",
       "      <td>3.256000e+04</td>\n",
       "      <td>32560.000000</td>\n",
       "      <td>32560.000000</td>\n",
       "      <td>32560.000000</td>\n",
       "      <td>32560.000000</td>\n",
       "    </tr>\n",
       "    <tr>\n",
       "      <th>mean</th>\n",
       "      <td>38.581634</td>\n",
       "      <td>1.897818e+05</td>\n",
       "      <td>10.080590</td>\n",
       "      <td>1077.615172</td>\n",
       "      <td>87.306511</td>\n",
       "      <td>40.437469</td>\n",
       "    </tr>\n",
       "    <tr>\n",
       "      <th>std</th>\n",
       "      <td>13.640642</td>\n",
       "      <td>1.055498e+05</td>\n",
       "      <td>2.572709</td>\n",
       "      <td>7385.402999</td>\n",
       "      <td>402.966116</td>\n",
       "      <td>12.347618</td>\n",
       "    </tr>\n",
       "    <tr>\n",
       "      <th>min</th>\n",
       "      <td>17.000000</td>\n",
       "      <td>1.228500e+04</td>\n",
       "      <td>1.000000</td>\n",
       "      <td>0.000000</td>\n",
       "      <td>0.000000</td>\n",
       "      <td>1.000000</td>\n",
       "    </tr>\n",
       "    <tr>\n",
       "      <th>25%</th>\n",
       "      <td>28.000000</td>\n",
       "      <td>1.178315e+05</td>\n",
       "      <td>9.000000</td>\n",
       "      <td>0.000000</td>\n",
       "      <td>0.000000</td>\n",
       "      <td>40.000000</td>\n",
       "    </tr>\n",
       "    <tr>\n",
       "      <th>50%</th>\n",
       "      <td>37.000000</td>\n",
       "      <td>1.783630e+05</td>\n",
       "      <td>10.000000</td>\n",
       "      <td>0.000000</td>\n",
       "      <td>0.000000</td>\n",
       "      <td>40.000000</td>\n",
       "    </tr>\n",
       "    <tr>\n",
       "      <th>75%</th>\n",
       "      <td>48.000000</td>\n",
       "      <td>2.370545e+05</td>\n",
       "      <td>12.000000</td>\n",
       "      <td>0.000000</td>\n",
       "      <td>0.000000</td>\n",
       "      <td>45.000000</td>\n",
       "    </tr>\n",
       "    <tr>\n",
       "      <th>max</th>\n",
       "      <td>90.000000</td>\n",
       "      <td>1.484705e+06</td>\n",
       "      <td>16.000000</td>\n",
       "      <td>99999.000000</td>\n",
       "      <td>4356.000000</td>\n",
       "      <td>99.000000</td>\n",
       "    </tr>\n",
       "  </tbody>\n",
       "</table>\n",
       "</div>"
      ],
      "text/plain": [
       "                Age        Fnlwgt  Education_num  Capital_gain  Capital_loss  \\\n",
       "count  32560.000000  3.256000e+04   32560.000000  32560.000000  32560.000000   \n",
       "mean      38.581634  1.897818e+05      10.080590   1077.615172     87.306511   \n",
       "std       13.640642  1.055498e+05       2.572709   7385.402999    402.966116   \n",
       "min       17.000000  1.228500e+04       1.000000      0.000000      0.000000   \n",
       "25%       28.000000  1.178315e+05       9.000000      0.000000      0.000000   \n",
       "50%       37.000000  1.783630e+05      10.000000      0.000000      0.000000   \n",
       "75%       48.000000  2.370545e+05      12.000000      0.000000      0.000000   \n",
       "max       90.000000  1.484705e+06      16.000000  99999.000000   4356.000000   \n",
       "\n",
       "       Hours_per_week  \n",
       "count    32560.000000  \n",
       "mean        40.437469  \n",
       "std         12.347618  \n",
       "min          1.000000  \n",
       "25%         40.000000  \n",
       "50%         40.000000  \n",
       "75%         45.000000  \n",
       "max         99.000000  "
      ]
     },
     "execution_count": 47,
     "metadata": {},
     "output_type": "execute_result"
    }
   ],
   "source": [
    "df.describe()"
   ]
  },
  {
   "cell_type": "code",
   "execution_count": 48,
   "metadata": {},
   "outputs": [
    {
     "data": {
      "text/plain": [
       "Index(['Age', 'Workclass', 'Fnlwgt', 'Education', 'Education_num',\n",
       "       'Marital_status', 'Occupation', 'Relationship', 'Race', 'Sex',\n",
       "       'Capital_gain', 'Capital_loss', 'Hours_per_week', 'Native_country',\n",
       "       'Income'],\n",
       "      dtype='object')"
      ]
     },
     "execution_count": 48,
     "metadata": {},
     "output_type": "execute_result"
    }
   ],
   "source": [
    "df.columns"
   ]
  },
  {
   "cell_type": "markdown",
   "metadata": {},
   "source": [
    "As per the observation : \n",
    "\n",
    "1.There are 32560 data.\n",
    "\n",
    "2.Both categorical and numerical data 3.There is no missing values."
   ]
  },
  {
   "cell_type": "code",
   "execution_count": 49,
   "metadata": {},
   "outputs": [],
   "source": [
    "numeric_data = df.select_dtypes(include=[np.number])\n",
    "categorical_data = df.select_dtypes(exclude=[np.number])"
   ]
  },
  {
   "cell_type": "code",
   "execution_count": 50,
   "metadata": {},
   "outputs": [
    {
     "data": {
      "text/html": [
       "<div>\n",
       "<style scoped>\n",
       "    .dataframe tbody tr th:only-of-type {\n",
       "        vertical-align: middle;\n",
       "    }\n",
       "\n",
       "    .dataframe tbody tr th {\n",
       "        vertical-align: top;\n",
       "    }\n",
       "\n",
       "    .dataframe thead th {\n",
       "        text-align: right;\n",
       "    }\n",
       "</style>\n",
       "<table border=\"1\" class=\"dataframe\">\n",
       "  <thead>\n",
       "    <tr style=\"text-align: right;\">\n",
       "      <th></th>\n",
       "      <th>Age</th>\n",
       "      <th>Fnlwgt</th>\n",
       "      <th>Education_num</th>\n",
       "      <th>Capital_gain</th>\n",
       "      <th>Capital_loss</th>\n",
       "      <th>Hours_per_week</th>\n",
       "    </tr>\n",
       "  </thead>\n",
       "  <tbody>\n",
       "    <tr>\n",
       "      <th>0</th>\n",
       "      <td>50</td>\n",
       "      <td>83311</td>\n",
       "      <td>13</td>\n",
       "      <td>0</td>\n",
       "      <td>0</td>\n",
       "      <td>13</td>\n",
       "    </tr>\n",
       "    <tr>\n",
       "      <th>1</th>\n",
       "      <td>38</td>\n",
       "      <td>215646</td>\n",
       "      <td>9</td>\n",
       "      <td>0</td>\n",
       "      <td>0</td>\n",
       "      <td>40</td>\n",
       "    </tr>\n",
       "    <tr>\n",
       "      <th>2</th>\n",
       "      <td>53</td>\n",
       "      <td>234721</td>\n",
       "      <td>7</td>\n",
       "      <td>0</td>\n",
       "      <td>0</td>\n",
       "      <td>40</td>\n",
       "    </tr>\n",
       "    <tr>\n",
       "      <th>3</th>\n",
       "      <td>28</td>\n",
       "      <td>338409</td>\n",
       "      <td>13</td>\n",
       "      <td>0</td>\n",
       "      <td>0</td>\n",
       "      <td>40</td>\n",
       "    </tr>\n",
       "    <tr>\n",
       "      <th>4</th>\n",
       "      <td>37</td>\n",
       "      <td>284582</td>\n",
       "      <td>14</td>\n",
       "      <td>0</td>\n",
       "      <td>0</td>\n",
       "      <td>40</td>\n",
       "    </tr>\n",
       "    <tr>\n",
       "      <th>...</th>\n",
       "      <td>...</td>\n",
       "      <td>...</td>\n",
       "      <td>...</td>\n",
       "      <td>...</td>\n",
       "      <td>...</td>\n",
       "      <td>...</td>\n",
       "    </tr>\n",
       "    <tr>\n",
       "      <th>32555</th>\n",
       "      <td>27</td>\n",
       "      <td>257302</td>\n",
       "      <td>12</td>\n",
       "      <td>0</td>\n",
       "      <td>0</td>\n",
       "      <td>38</td>\n",
       "    </tr>\n",
       "    <tr>\n",
       "      <th>32556</th>\n",
       "      <td>40</td>\n",
       "      <td>154374</td>\n",
       "      <td>9</td>\n",
       "      <td>0</td>\n",
       "      <td>0</td>\n",
       "      <td>40</td>\n",
       "    </tr>\n",
       "    <tr>\n",
       "      <th>32557</th>\n",
       "      <td>58</td>\n",
       "      <td>151910</td>\n",
       "      <td>9</td>\n",
       "      <td>0</td>\n",
       "      <td>0</td>\n",
       "      <td>40</td>\n",
       "    </tr>\n",
       "    <tr>\n",
       "      <th>32558</th>\n",
       "      <td>22</td>\n",
       "      <td>201490</td>\n",
       "      <td>9</td>\n",
       "      <td>0</td>\n",
       "      <td>0</td>\n",
       "      <td>20</td>\n",
       "    </tr>\n",
       "    <tr>\n",
       "      <th>32559</th>\n",
       "      <td>52</td>\n",
       "      <td>287927</td>\n",
       "      <td>9</td>\n",
       "      <td>15024</td>\n",
       "      <td>0</td>\n",
       "      <td>40</td>\n",
       "    </tr>\n",
       "  </tbody>\n",
       "</table>\n",
       "<p>32560 rows × 6 columns</p>\n",
       "</div>"
      ],
      "text/plain": [
       "       Age  Fnlwgt  Education_num  Capital_gain  Capital_loss  Hours_per_week\n",
       "0       50   83311             13             0             0              13\n",
       "1       38  215646              9             0             0              40\n",
       "2       53  234721              7             0             0              40\n",
       "3       28  338409             13             0             0              40\n",
       "4       37  284582             14             0             0              40\n",
       "...    ...     ...            ...           ...           ...             ...\n",
       "32555   27  257302             12             0             0              38\n",
       "32556   40  154374              9             0             0              40\n",
       "32557   58  151910              9             0             0              40\n",
       "32558   22  201490              9             0             0              20\n",
       "32559   52  287927              9         15024             0              40\n",
       "\n",
       "[32560 rows x 6 columns]"
      ]
     },
     "execution_count": 50,
     "metadata": {},
     "output_type": "execute_result"
    }
   ],
   "source": [
    "numeric_data"
   ]
  },
  {
   "cell_type": "markdown",
   "metadata": {},
   "source": [
    "1.Age,Hours_per_week are self explanatory.\n",
    "\n",
    "2.fnlwgt:final weight 3.Education_num:No of years of education in total."
   ]
  },
  {
   "cell_type": "markdown",
   "metadata": {},
   "source": [
    "# Data Visualization:"
   ]
  },
  {
   "cell_type": "code",
   "execution_count": 51,
   "metadata": {},
   "outputs": [
    {
     "data": {
      "text/plain": [
       "array([[<AxesSubplot:title={'center':'Age'}>,\n",
       "        <AxesSubplot:title={'center':'Fnlwgt'}>],\n",
       "       [<AxesSubplot:title={'center':'Education_num'}>,\n",
       "        <AxesSubplot:title={'center':'Capital_gain'}>],\n",
       "       [<AxesSubplot:title={'center':'Capital_loss'}>,\n",
       "        <AxesSubplot:title={'center':'Hours_per_week'}>]], dtype=object)"
      ]
     },
     "execution_count": 51,
     "metadata": {},
     "output_type": "execute_result"
    },
    {
     "data": {
      "image/png": "[encoded data removed]",
      "text/plain": [
       "<Figure size 720x720 with 6 Axes>"
      ]
     },
     "metadata": {
      "needs_background": "light"
     },
     "output_type": "display_data"
    }
   ],
   "source": [
    "numeric_data.hist(figsize=(10,10))"
   ]
  },
  {
   "cell_type": "markdown",
   "metadata": {},
   "source": [
    "from the observations: 1:People age of 40-45 are more 2:fnlwght is more in between 0.20 to 0.30 3:Almost the education is more around 8-9 years 4:hours_per_week are more in 30hours\n",
    "\n",
    "And the data is not normalized so scaling is required."
   ]
  },
  {
   "cell_type": "code",
   "execution_count": 52,
   "metadata": {},
   "outputs": [
    {
     "data": {
      "text/plain": [
       "<AxesSubplot:xlabel='count', ylabel='Workclass'>"
      ]
     },
     "execution_count": 52,
     "metadata": {},
     "output_type": "execute_result"
    },
    {
     "data": {
      "image/png": "[encoded data removed]",
      "text/plain": [
       "<Figure size 432x288 with 1 Axes>"
      ]
     },
     "metadata": {
      "needs_background": "light"
     },
     "output_type": "display_data"
    }
   ],
   "source": [
    "sns.countplot(y='Workclass', hue='Income', data = categorical_data)"
   ]
  },
  {
   "cell_type": "markdown",
   "metadata": {},
   "source": [
    "As per the graph private employees who earn more than 50k and less than 50K"
   ]
  },
  {
   "cell_type": "code",
   "execution_count": 53,
   "metadata": {},
   "outputs": [
    {
     "data": {
      "text/plain": [
       "<AxesSubplot:xlabel='count', ylabel='Sex'>"
      ]
     },
     "execution_count": 53,
     "metadata": {},
     "output_type": "execute_result"
    },
    {
     "data": {
      "image/png": "[encoded data removed]",
      "text/plain": [
       "<Figure size 432x288 with 1 Axes>"
      ]
     },
     "metadata": {
      "needs_background": "light"
     },
     "output_type": "display_data"
    }
   ],
   "source": [
    "sns.countplot(y='Sex', hue='Income', data = categorical_data)"
   ]
  },
  {
   "cell_type": "markdown",
   "metadata": {},
   "source": [
    "Male people are 14000 who are above 50k salary Female people are 9900 who are above 50k salary"
   ]
  },
  {
   "cell_type": "markdown",
   "metadata": {},
   "source": [
    "# DATA VISUALIZATION"
   ]
  },
  {
   "cell_type": "code",
   "execution_count": 54,
   "metadata": {},
   "outputs": [
    {
     "data": {
      "image/png": "[encoded data removed]",
      "text/plain": [
       "<Figure size 1440x576 with 1 Axes>"
      ]
     },
     "metadata": {
      "needs_background": "light"
     },
     "output_type": "display_data"
    },
    {
     "data": {
      "image/png": "[encoded data removed]",
      "text/plain": [
       "<Figure size 1440x576 with 1 Axes>"
      ]
     },
     "metadata": {
      "needs_background": "light"
     },
     "output_type": "display_data"
    },
    {
     "data": {
      "image/png": "[encoded data removed]",
      "text/plain": [
       "<Figure size 1440x576 with 1 Axes>"
      ]
     },
     "metadata": {
      "needs_background": "light"
     },
     "output_type": "display_data"
    },
    {
     "data": {
      "image/png": "[encoded data removed]",
      "text/plain": [
       "<Figure size 1440x576 with 1 Axes>"
      ]
     },
     "metadata": {
      "needs_background": "light"
     },
     "output_type": "display_data"
    },
    {
     "data": {
      "image/png": "[encoded data removed]",
      "text/plain": [
       "<Figure size 1440x576 with 1 Axes>"
      ]
     },
     "metadata": {
      "needs_background": "light"
     },
     "output_type": "display_data"
    },
    {
     "data": {
      "image/png": "[encoded data removed]",
      "text/plain": [
       "<Figure size 1440x576 with 1 Axes>"
      ]
     },
     "metadata": {
      "needs_background": "light"
     },
     "output_type": "display_data"
    },
    {
     "data": {
      "image/png": "[encoded data removed]",
      "text/plain": [
       "<Figure size 1440x576 with 1 Axes>"
      ]
     },
     "metadata": {
      "needs_background": "light"
     },
     "output_type": "display_data"
    },
    {
     "data": {
      "image/png": "[encoded data removed]",
      "text/plain": [
       "<Figure size 1440x576 with 1 Axes>"
      ]
     },
     "metadata": {
      "needs_background": "light"
     },
     "output_type": "display_data"
    },
    {
     "data": {
      "image/png": "[encoded data removed]",
      "text/plain": [
       "<Figure size 1440x576 with 1 Axes>"
      ]
     },
     "metadata": {
      "needs_background": "light"
     },
     "output_type": "display_data"
    }
   ],
   "source": [
    "for i in categorical_data.columns:\n",
    "    plt.figure(figsize=(20,8))\n",
    "    sns.countplot(x=categorical_data[i],data=categorical_data)"
   ]
  },
  {
   "cell_type": "code",
   "execution_count": 55,
   "metadata": {},
   "outputs": [],
   "source": [
    "import sklearn\n",
    "from sklearn.preprocessing import LabelEncoder\n",
    "le=LabelEncoder()"
   ]
  },
  {
   "cell_type": "code",
   "execution_count": 56,
   "metadata": {},
   "outputs": [],
   "source": [
    "for i in df.columns:\n",
    "    df[i]=le.fit_transform(df[i])\n",
    "    df"
   ]
  },
  {
   "cell_type": "code",
   "execution_count": 57,
   "metadata": {},
   "outputs": [
    {
     "data": {
      "text/html": [
       "<div>\n",
       "<style scoped>\n",
       "    .dataframe tbody tr th:only-of-type {\n",
       "        vertical-align: middle;\n",
       "    }\n",
       "\n",
       "    .dataframe tbody tr th {\n",
       "        vertical-align: top;\n",
       "    }\n",
       "\n",
       "    .dataframe thead th {\n",
       "        text-align: right;\n",
       "    }\n",
       "</style>\n",
       "<table border=\"1\" class=\"dataframe\">\n",
       "  <thead>\n",
       "    <tr style=\"text-align: right;\">\n",
       "      <th></th>\n",
       "      <th>Age</th>\n",
       "      <th>Workclass</th>\n",
       "      <th>Fnlwgt</th>\n",
       "      <th>Education</th>\n",
       "      <th>Education_num</th>\n",
       "      <th>Marital_status</th>\n",
       "      <th>Occupation</th>\n",
       "      <th>Relationship</th>\n",
       "      <th>Race</th>\n",
       "      <th>Sex</th>\n",
       "      <th>Capital_gain</th>\n",
       "      <th>Capital_loss</th>\n",
       "      <th>Hours_per_week</th>\n",
       "      <th>Native_country</th>\n",
       "      <th>Income</th>\n",
       "    </tr>\n",
       "  </thead>\n",
       "  <tbody>\n",
       "    <tr>\n",
       "      <th>0</th>\n",
       "      <td>33</td>\n",
       "      <td>6</td>\n",
       "      <td>2925</td>\n",
       "      <td>9</td>\n",
       "      <td>12</td>\n",
       "      <td>2</td>\n",
       "      <td>4</td>\n",
       "      <td>0</td>\n",
       "      <td>4</td>\n",
       "      <td>1</td>\n",
       "      <td>0</td>\n",
       "      <td>0</td>\n",
       "      <td>12</td>\n",
       "      <td>39</td>\n",
       "      <td>0</td>\n",
       "    </tr>\n",
       "    <tr>\n",
       "      <th>1</th>\n",
       "      <td>21</td>\n",
       "      <td>4</td>\n",
       "      <td>14085</td>\n",
       "      <td>11</td>\n",
       "      <td>8</td>\n",
       "      <td>0</td>\n",
       "      <td>6</td>\n",
       "      <td>1</td>\n",
       "      <td>4</td>\n",
       "      <td>1</td>\n",
       "      <td>0</td>\n",
       "      <td>0</td>\n",
       "      <td>39</td>\n",
       "      <td>39</td>\n",
       "      <td>0</td>\n",
       "    </tr>\n",
       "    <tr>\n",
       "      <th>2</th>\n",
       "      <td>36</td>\n",
       "      <td>4</td>\n",
       "      <td>15335</td>\n",
       "      <td>1</td>\n",
       "      <td>6</td>\n",
       "      <td>2</td>\n",
       "      <td>6</td>\n",
       "      <td>0</td>\n",
       "      <td>2</td>\n",
       "      <td>1</td>\n",
       "      <td>0</td>\n",
       "      <td>0</td>\n",
       "      <td>39</td>\n",
       "      <td>39</td>\n",
       "      <td>0</td>\n",
       "    </tr>\n",
       "    <tr>\n",
       "      <th>3</th>\n",
       "      <td>11</td>\n",
       "      <td>4</td>\n",
       "      <td>19354</td>\n",
       "      <td>9</td>\n",
       "      <td>12</td>\n",
       "      <td>2</td>\n",
       "      <td>10</td>\n",
       "      <td>5</td>\n",
       "      <td>2</td>\n",
       "      <td>0</td>\n",
       "      <td>0</td>\n",
       "      <td>0</td>\n",
       "      <td>39</td>\n",
       "      <td>5</td>\n",
       "      <td>0</td>\n",
       "    </tr>\n",
       "    <tr>\n",
       "      <th>4</th>\n",
       "      <td>20</td>\n",
       "      <td>4</td>\n",
       "      <td>17699</td>\n",
       "      <td>12</td>\n",
       "      <td>13</td>\n",
       "      <td>2</td>\n",
       "      <td>4</td>\n",
       "      <td>5</td>\n",
       "      <td>4</td>\n",
       "      <td>0</td>\n",
       "      <td>0</td>\n",
       "      <td>0</td>\n",
       "      <td>39</td>\n",
       "      <td>39</td>\n",
       "      <td>0</td>\n",
       "    </tr>\n",
       "    <tr>\n",
       "      <th>...</th>\n",
       "      <td>...</td>\n",
       "      <td>...</td>\n",
       "      <td>...</td>\n",
       "      <td>...</td>\n",
       "      <td>...</td>\n",
       "      <td>...</td>\n",
       "      <td>...</td>\n",
       "      <td>...</td>\n",
       "      <td>...</td>\n",
       "      <td>...</td>\n",
       "      <td>...</td>\n",
       "      <td>...</td>\n",
       "      <td>...</td>\n",
       "      <td>...</td>\n",
       "      <td>...</td>\n",
       "    </tr>\n",
       "    <tr>\n",
       "      <th>32555</th>\n",
       "      <td>10</td>\n",
       "      <td>4</td>\n",
       "      <td>16527</td>\n",
       "      <td>7</td>\n",
       "      <td>11</td>\n",
       "      <td>2</td>\n",
       "      <td>13</td>\n",
       "      <td>5</td>\n",
       "      <td>4</td>\n",
       "      <td>0</td>\n",
       "      <td>0</td>\n",
       "      <td>0</td>\n",
       "      <td>37</td>\n",
       "      <td>39</td>\n",
       "      <td>0</td>\n",
       "    </tr>\n",
       "    <tr>\n",
       "      <th>32556</th>\n",
       "      <td>23</td>\n",
       "      <td>4</td>\n",
       "      <td>8079</td>\n",
       "      <td>11</td>\n",
       "      <td>8</td>\n",
       "      <td>2</td>\n",
       "      <td>7</td>\n",
       "      <td>0</td>\n",
       "      <td>4</td>\n",
       "      <td>1</td>\n",
       "      <td>0</td>\n",
       "      <td>0</td>\n",
       "      <td>39</td>\n",
       "      <td>39</td>\n",
       "      <td>1</td>\n",
       "    </tr>\n",
       "    <tr>\n",
       "      <th>32557</th>\n",
       "      <td>41</td>\n",
       "      <td>4</td>\n",
       "      <td>7882</td>\n",
       "      <td>11</td>\n",
       "      <td>8</td>\n",
       "      <td>6</td>\n",
       "      <td>1</td>\n",
       "      <td>4</td>\n",
       "      <td>4</td>\n",
       "      <td>0</td>\n",
       "      <td>0</td>\n",
       "      <td>0</td>\n",
       "      <td>39</td>\n",
       "      <td>39</td>\n",
       "      <td>0</td>\n",
       "    </tr>\n",
       "    <tr>\n",
       "      <th>32558</th>\n",
       "      <td>5</td>\n",
       "      <td>4</td>\n",
       "      <td>12880</td>\n",
       "      <td>11</td>\n",
       "      <td>8</td>\n",
       "      <td>4</td>\n",
       "      <td>1</td>\n",
       "      <td>3</td>\n",
       "      <td>4</td>\n",
       "      <td>1</td>\n",
       "      <td>0</td>\n",
       "      <td>0</td>\n",
       "      <td>19</td>\n",
       "      <td>39</td>\n",
       "      <td>0</td>\n",
       "    </tr>\n",
       "    <tr>\n",
       "      <th>32559</th>\n",
       "      <td>35</td>\n",
       "      <td>5</td>\n",
       "      <td>17824</td>\n",
       "      <td>11</td>\n",
       "      <td>8</td>\n",
       "      <td>2</td>\n",
       "      <td>4</td>\n",
       "      <td>5</td>\n",
       "      <td>4</td>\n",
       "      <td>0</td>\n",
       "      <td>108</td>\n",
       "      <td>0</td>\n",
       "      <td>39</td>\n",
       "      <td>39</td>\n",
       "      <td>1</td>\n",
       "    </tr>\n",
       "  </tbody>\n",
       "</table>\n",
       "<p>32560 rows × 15 columns</p>\n",
       "</div>"
      ],
      "text/plain": [
       "       Age  Workclass  Fnlwgt  Education  Education_num  Marital_status  \\\n",
       "0       33          6    2925          9             12               2   \n",
       "1       21          4   14085         11              8               0   \n",
       "2       36          4   15335          1              6               2   \n",
       "3       11          4   19354          9             12               2   \n",
       "4       20          4   17699         12             13               2   \n",
       "...    ...        ...     ...        ...            ...             ...   \n",
       "32555   10          4   16527          7             11               2   \n",
       "32556   23          4    8079         11              8               2   \n",
       "32557   41          4    7882         11              8               6   \n",
       "32558    5          4   12880         11              8               4   \n",
       "32559   35          5   17824         11              8               2   \n",
       "\n",
       "       Occupation  Relationship  Race  Sex  Capital_gain  Capital_loss  \\\n",
       "0               4             0     4    1             0             0   \n",
       "1               6             1     4    1             0             0   \n",
       "2               6             0     2    1             0             0   \n",
       "3              10             5     2    0             0             0   \n",
       "4               4             5     4    0             0             0   \n",
       "...           ...           ...   ...  ...           ...           ...   \n",
       "32555          13             5     4    0             0             0   \n",
       "32556           7             0     4    1             0             0   \n",
       "32557           1             4     4    0             0             0   \n",
       "32558           1             3     4    1             0             0   \n",
       "32559           4             5     4    0           108             0   \n",
       "\n",
       "       Hours_per_week  Native_country  Income  \n",
       "0                  12              39       0  \n",
       "1                  39              39       0  \n",
       "2                  39              39       0  \n",
       "3                  39               5       0  \n",
       "4                  39              39       0  \n",
       "...               ...             ...     ...  \n",
       "32555              37              39       0  \n",
       "32556              39              39       1  \n",
       "32557              39              39       0  \n",
       "32558              19              39       0  \n",
       "32559              39              39       1  \n",
       "\n",
       "[32560 rows x 15 columns]"
      ]
     },
     "execution_count": 57,
     "metadata": {},
     "output_type": "execute_result"
    }
   ],
   "source": [
    "df"
   ]
  },
  {
   "cell_type": "code",
   "execution_count": 58,
   "metadata": {},
   "outputs": [
    {
     "data": {
      "text/html": [
       "<div>\n",
       "<style scoped>\n",
       "    .dataframe tbody tr th:only-of-type {\n",
       "        vertical-align: middle;\n",
       "    }\n",
       "\n",
       "    .dataframe tbody tr th {\n",
       "        vertical-align: top;\n",
       "    }\n",
       "\n",
       "    .dataframe thead th {\n",
       "        text-align: right;\n",
       "    }\n",
       "</style>\n",
       "<table border=\"1\" class=\"dataframe\">\n",
       "  <thead>\n",
       "    <tr style=\"text-align: right;\">\n",
       "      <th></th>\n",
       "      <th>Age</th>\n",
       "      <th>Workclass</th>\n",
       "      <th>Fnlwgt</th>\n",
       "      <th>Education</th>\n",
       "      <th>Education_num</th>\n",
       "      <th>Marital_status</th>\n",
       "      <th>Occupation</th>\n",
       "      <th>Relationship</th>\n",
       "      <th>Race</th>\n",
       "      <th>Sex</th>\n",
       "      <th>Capital_gain</th>\n",
       "      <th>Capital_loss</th>\n",
       "      <th>Hours_per_week</th>\n",
       "      <th>Native_country</th>\n",
       "      <th>Income</th>\n",
       "    </tr>\n",
       "  </thead>\n",
       "  <tbody>\n",
       "    <tr>\n",
       "      <th>Age</th>\n",
       "      <td>1.000000</td>\n",
       "      <td>0.003829</td>\n",
       "      <td>-0.078466</td>\n",
       "      <td>-0.010499</td>\n",
       "      <td>0.036547</td>\n",
       "      <td>-0.266433</td>\n",
       "      <td>-0.020929</td>\n",
       "      <td>-0.263783</td>\n",
       "      <td>0.028751</td>\n",
       "      <td>0.088863</td>\n",
       "      <td>0.125916</td>\n",
       "      <td>0.065058</td>\n",
       "      <td>0.069123</td>\n",
       "      <td>-0.001145</td>\n",
       "      <td>0.234136</td>\n",
       "    </tr>\n",
       "    <tr>\n",
       "      <th>Workclass</th>\n",
       "      <td>0.003829</td>\n",
       "      <td>1.000000</td>\n",
       "      <td>-0.018359</td>\n",
       "      <td>0.023537</td>\n",
       "      <td>0.052015</td>\n",
       "      <td>-0.064798</td>\n",
       "      <td>0.255004</td>\n",
       "      <td>-0.090449</td>\n",
       "      <td>0.049720</td>\n",
       "      <td>0.095942</td>\n",
       "      <td>0.029297</td>\n",
       "      <td>0.015630</td>\n",
       "      <td>0.139553</td>\n",
       "      <td>-0.007710</td>\n",
       "      <td>0.051645</td>\n",
       "    </tr>\n",
       "    <tr>\n",
       "      <th>Fnlwgt</th>\n",
       "      <td>-0.078466</td>\n",
       "      <td>-0.018359</td>\n",
       "      <td>1.000000</td>\n",
       "      <td>-0.027082</td>\n",
       "      <td>-0.042806</td>\n",
       "      <td>0.030163</td>\n",
       "      <td>0.003417</td>\n",
       "      <td>0.007005</td>\n",
       "      <td>-0.008964</td>\n",
       "      <td>0.025787</td>\n",
       "      <td>-0.004562</td>\n",
       "      <td>-0.009912</td>\n",
       "      <td>-0.019168</td>\n",
       "      <td>-0.057038</td>\n",
       "      <td>-0.010573</td>\n",
       "    </tr>\n",
       "    <tr>\n",
       "      <th>Education</th>\n",
       "      <td>-0.010499</td>\n",
       "      <td>0.023537</td>\n",
       "      <td>-0.027082</td>\n",
       "      <td>1.000000</td>\n",
       "      <td>0.359172</td>\n",
       "      <td>-0.038398</td>\n",
       "      <td>-0.021274</td>\n",
       "      <td>-0.010879</td>\n",
       "      <td>0.014135</td>\n",
       "      <td>-0.027349</td>\n",
       "      <td>0.031392</td>\n",
       "      <td>0.016111</td>\n",
       "      <td>0.056295</td>\n",
       "      <td>0.064291</td>\n",
       "      <td>0.079311</td>\n",
       "    </tr>\n",
       "    <tr>\n",
       "      <th>Education_num</th>\n",
       "      <td>0.036547</td>\n",
       "      <td>0.052015</td>\n",
       "      <td>-0.042806</td>\n",
       "      <td>0.359172</td>\n",
       "      <td>1.000000</td>\n",
       "      <td>-0.069338</td>\n",
       "      <td>0.109748</td>\n",
       "      <td>-0.094145</td>\n",
       "      <td>0.031825</td>\n",
       "      <td>0.012256</td>\n",
       "      <td>0.154387</td>\n",
       "      <td>0.084175</td>\n",
       "      <td>0.150098</td>\n",
       "      <td>0.050831</td>\n",
       "      <td>0.335182</td>\n",
       "    </tr>\n",
       "    <tr>\n",
       "      <th>Marital_status</th>\n",
       "      <td>-0.266433</td>\n",
       "      <td>-0.064798</td>\n",
       "      <td>0.030163</td>\n",
       "      <td>-0.038398</td>\n",
       "      <td>-0.069338</td>\n",
       "      <td>1.000000</td>\n",
       "      <td>-0.009617</td>\n",
       "      <td>0.185461</td>\n",
       "      <td>-0.068025</td>\n",
       "      <td>-0.129337</td>\n",
       "      <td>-0.075162</td>\n",
       "      <td>-0.035235</td>\n",
       "      <td>-0.192647</td>\n",
       "      <td>-0.023827</td>\n",
       "      <td>-0.199295</td>\n",
       "    </tr>\n",
       "    <tr>\n",
       "      <th>Occupation</th>\n",
       "      <td>-0.020929</td>\n",
       "      <td>0.255004</td>\n",
       "      <td>0.003417</td>\n",
       "      <td>-0.021274</td>\n",
       "      <td>0.109748</td>\n",
       "      <td>-0.009617</td>\n",
       "      <td>1.000000</td>\n",
       "      <td>-0.075620</td>\n",
       "      <td>0.006779</td>\n",
       "      <td>0.080328</td>\n",
       "      <td>0.026285</td>\n",
       "      <td>0.017334</td>\n",
       "      <td>0.080622</td>\n",
       "      <td>-0.012532</td>\n",
       "      <td>0.075448</td>\n",
       "    </tr>\n",
       "    <tr>\n",
       "      <th>Relationship</th>\n",
       "      <td>-0.263783</td>\n",
       "      <td>-0.090449</td>\n",
       "      <td>0.007005</td>\n",
       "      <td>-0.010879</td>\n",
       "      <td>-0.094145</td>\n",
       "      <td>0.185461</td>\n",
       "      <td>-0.075620</td>\n",
       "      <td>1.000000</td>\n",
       "      <td>-0.116052</td>\n",
       "      <td>-0.582453</td>\n",
       "      <td>-0.093141</td>\n",
       "      <td>-0.064286</td>\n",
       "      <td>-0.251353</td>\n",
       "      <td>-0.005504</td>\n",
       "      <td>-0.250924</td>\n",
       "    </tr>\n",
       "    <tr>\n",
       "      <th>Race</th>\n",
       "      <td>0.028751</td>\n",
       "      <td>0.049720</td>\n",
       "      <td>-0.008964</td>\n",
       "      <td>0.014135</td>\n",
       "      <td>0.031825</td>\n",
       "      <td>-0.068025</td>\n",
       "      <td>0.006779</td>\n",
       "      <td>-0.116052</td>\n",
       "      <td>1.000000</td>\n",
       "      <td>0.087197</td>\n",
       "      <td>0.024951</td>\n",
       "      <td>0.019366</td>\n",
       "      <td>0.042318</td>\n",
       "      <td>0.137849</td>\n",
       "      <td>0.071853</td>\n",
       "    </tr>\n",
       "    <tr>\n",
       "      <th>Sex</th>\n",
       "      <td>0.088863</td>\n",
       "      <td>0.095942</td>\n",
       "      <td>0.025787</td>\n",
       "      <td>-0.027349</td>\n",
       "      <td>0.012256</td>\n",
       "      <td>-0.129337</td>\n",
       "      <td>0.080328</td>\n",
       "      <td>-0.582453</td>\n",
       "      <td>0.087197</td>\n",
       "      <td>1.000000</td>\n",
       "      <td>0.077573</td>\n",
       "      <td>0.049549</td>\n",
       "      <td>0.231357</td>\n",
       "      <td>-0.008125</td>\n",
       "      <td>0.215995</td>\n",
       "    </tr>\n",
       "    <tr>\n",
       "      <th>Capital_gain</th>\n",
       "      <td>0.125916</td>\n",
       "      <td>0.029297</td>\n",
       "      <td>-0.004562</td>\n",
       "      <td>0.031392</td>\n",
       "      <td>0.154387</td>\n",
       "      <td>-0.075162</td>\n",
       "      <td>0.026285</td>\n",
       "      <td>-0.093141</td>\n",
       "      <td>0.024951</td>\n",
       "      <td>0.077573</td>\n",
       "      <td>1.000000</td>\n",
       "      <td>-0.056966</td>\n",
       "      <td>0.101367</td>\n",
       "      <td>0.006933</td>\n",
       "      <td>0.340034</td>\n",
       "    </tr>\n",
       "    <tr>\n",
       "      <th>Capital_loss</th>\n",
       "      <td>0.065058</td>\n",
       "      <td>0.015630</td>\n",
       "      <td>-0.009912</td>\n",
       "      <td>0.016111</td>\n",
       "      <td>0.084175</td>\n",
       "      <td>-0.035235</td>\n",
       "      <td>0.017334</td>\n",
       "      <td>-0.064286</td>\n",
       "      <td>0.019366</td>\n",
       "      <td>0.049549</td>\n",
       "      <td>-0.056966</td>\n",
       "      <td>1.000000</td>\n",
       "      <td>0.058826</td>\n",
       "      <td>0.001370</td>\n",
       "      <td>0.162511</td>\n",
       "    </tr>\n",
       "    <tr>\n",
       "      <th>Hours_per_week</th>\n",
       "      <td>0.069123</td>\n",
       "      <td>0.139553</td>\n",
       "      <td>-0.019168</td>\n",
       "      <td>0.056295</td>\n",
       "      <td>0.150098</td>\n",
       "      <td>-0.192647</td>\n",
       "      <td>0.080622</td>\n",
       "      <td>-0.251353</td>\n",
       "      <td>0.042318</td>\n",
       "      <td>0.231357</td>\n",
       "      <td>0.101367</td>\n",
       "      <td>0.058826</td>\n",
       "      <td>1.000000</td>\n",
       "      <td>-0.002760</td>\n",
       "      <td>0.232394</td>\n",
       "    </tr>\n",
       "    <tr>\n",
       "      <th>Native_country</th>\n",
       "      <td>-0.001145</td>\n",
       "      <td>-0.007710</td>\n",
       "      <td>-0.057038</td>\n",
       "      <td>0.064291</td>\n",
       "      <td>0.050831</td>\n",
       "      <td>-0.023827</td>\n",
       "      <td>-0.012532</td>\n",
       "      <td>-0.005504</td>\n",
       "      <td>0.137849</td>\n",
       "      <td>-0.008125</td>\n",
       "      <td>0.006933</td>\n",
       "      <td>0.001370</td>\n",
       "      <td>-0.002760</td>\n",
       "      <td>1.000000</td>\n",
       "      <td>0.015845</td>\n",
       "    </tr>\n",
       "    <tr>\n",
       "      <th>Income</th>\n",
       "      <td>0.234136</td>\n",
       "      <td>0.051645</td>\n",
       "      <td>-0.010573</td>\n",
       "      <td>0.079311</td>\n",
       "      <td>0.335182</td>\n",
       "      <td>-0.199295</td>\n",
       "      <td>0.075448</td>\n",
       "      <td>-0.250924</td>\n",
       "      <td>0.071853</td>\n",
       "      <td>0.215995</td>\n",
       "      <td>0.340034</td>\n",
       "      <td>0.162511</td>\n",
       "      <td>0.232394</td>\n",
       "      <td>0.015845</td>\n",
       "      <td>1.000000</td>\n",
       "    </tr>\n",
       "  </tbody>\n",
       "</table>\n",
       "</div>"
      ],
      "text/plain": [
       "                     Age  Workclass    Fnlwgt  Education  Education_num  \\\n",
       "Age             1.000000   0.003829 -0.078466  -0.010499       0.036547   \n",
       "Workclass       0.003829   1.000000 -0.018359   0.023537       0.052015   \n",
       "Fnlwgt         -0.078466  -0.018359  1.000000  -0.027082      -0.042806   \n",
       "Education      -0.010499   0.023537 -0.027082   1.000000       0.359172   \n",
       "Education_num   0.036547   0.052015 -0.042806   0.359172       1.000000   \n",
       "Marital_status -0.266433  -0.064798  0.030163  -0.038398      -0.069338   \n",
       "Occupation     -0.020929   0.255004  0.003417  -0.021274       0.109748   \n",
       "Relationship   -0.263783  -0.090449  0.007005  -0.010879      -0.094145   \n",
       "Race            0.028751   0.049720 -0.008964   0.014135       0.031825   \n",
       "Sex             0.088863   0.095942  0.025787  -0.027349       0.012256   \n",
       "Capital_gain    0.125916   0.029297 -0.004562   0.031392       0.154387   \n",
       "Capital_loss    0.065058   0.015630 -0.009912   0.016111       0.084175   \n",
       "Hours_per_week  0.069123   0.139553 -0.019168   0.056295       0.150098   \n",
       "Native_country -0.001145  -0.007710 -0.057038   0.064291       0.050831   \n",
       "Income          0.234136   0.051645 -0.010573   0.079311       0.335182   \n",
       "\n",
       "                Marital_status  Occupation  Relationship      Race       Sex  \\\n",
       "Age                  -0.266433   -0.020929     -0.263783  0.028751  0.088863   \n",
       "Workclass            -0.064798    0.255004     -0.090449  0.049720  0.095942   \n",
       "Fnlwgt                0.030163    0.003417      0.007005 -0.008964  0.025787   \n",
       "Education            -0.038398   -0.021274     -0.010879  0.014135 -0.027349   \n",
       "Education_num        -0.069338    0.109748     -0.094145  0.031825  0.012256   \n",
       "Marital_status        1.000000   -0.009617      0.185461 -0.068025 -0.129337   \n",
       "Occupation           -0.009617    1.000000     -0.075620  0.006779  0.080328   \n",
       "Relationship          0.185461   -0.075620      1.000000 -0.116052 -0.582453   \n",
       "Race                 -0.068025    0.006779     -0.116052  1.000000  0.087197   \n",
       "Sex                  -0.129337    0.080328     -0.582453  0.087197  1.000000   \n",
       "Capital_gain         -0.075162    0.026285     -0.093141  0.024951  0.077573   \n",
       "Capital_loss         -0.035235    0.017334     -0.064286  0.019366  0.049549   \n",
       "Hours_per_week       -0.192647    0.080622     -0.251353  0.042318  0.231357   \n",
       "Native_country       -0.023827   -0.012532     -0.005504  0.137849 -0.008125   \n",
       "Income               -0.199295    0.075448     -0.250924  0.071853  0.215995   \n",
       "\n",
       "                Capital_gain  Capital_loss  Hours_per_week  Native_country  \\\n",
       "Age                 0.125916      0.065058        0.069123       -0.001145   \n",
       "Workclass           0.029297      0.015630        0.139553       -0.007710   \n",
       "Fnlwgt             -0.004562     -0.009912       -0.019168       -0.057038   \n",
       "Education           0.031392      0.016111        0.056295        0.064291   \n",
       "Education_num       0.154387      0.084175        0.150098        0.050831   \n",
       "Marital_status     -0.075162     -0.035235       -0.192647       -0.023827   \n",
       "Occupation          0.026285      0.017334        0.080622       -0.012532   \n",
       "Relationship       -0.093141     -0.064286       -0.251353       -0.005504   \n",
       "Race                0.024951      0.019366        0.042318        0.137849   \n",
       "Sex                 0.077573      0.049549        0.231357       -0.008125   \n",
       "Capital_gain        1.000000     -0.056966        0.101367        0.006933   \n",
       "Capital_loss       -0.056966      1.000000        0.058826        0.001370   \n",
       "Hours_per_week      0.101367      0.058826        1.000000       -0.002760   \n",
       "Native_country      0.006933      0.001370       -0.002760        1.000000   \n",
       "Income              0.340034      0.162511        0.232394        0.015845   \n",
       "\n",
       "                  Income  \n",
       "Age             0.234136  \n",
       "Workclass       0.051645  \n",
       "Fnlwgt         -0.010573  \n",
       "Education       0.079311  \n",
       "Education_num   0.335182  \n",
       "Marital_status -0.199295  \n",
       "Occupation      0.075448  \n",
       "Relationship   -0.250924  \n",
       "Race            0.071853  \n",
       "Sex             0.215995  \n",
       "Capital_gain    0.340034  \n",
       "Capital_loss    0.162511  \n",
       "Hours_per_week  0.232394  \n",
       "Native_country  0.015845  \n",
       "Income          1.000000  "
      ]
     },
     "execution_count": 58,
     "metadata": {},
     "output_type": "execute_result"
    }
   ],
   "source": [
    "df.corr()"
   ]
  },
  {
   "cell_type": "code",
   "execution_count": 59,
   "metadata": {},
   "outputs": [
    {
     "data": {
      "text/plain": [
       "<AxesSubplot:>"
      ]
     },
     "execution_count": 59,
     "metadata": {},
     "output_type": "execute_result"
    },
    {
     "data": {
      "image/png": "[encoded data removed]",
      "text/plain": [
       "<Figure size 1080x720 with 2 Axes>"
      ]
     },
     "metadata": {
      "needs_background": "light"
     },
     "output_type": "display_data"
    }
   ],
   "source": [
    "plt.figure(figsize=(15,10))\n",
    "sns.heatmap(df.corr(),annot=True,linewidth=2.0,linecolor='black')"
   ]
  },
  {
   "cell_type": "markdown",
   "metadata": {},
   "source": [
    "As per the corelation Age factor,Education_num,Capital_gain and Hours_per_week slightly affecting the dependent variable and Education and final weight not that much affective to dependent variable so we can delete the varaibles Education and Education_num are multi collinear so that is one of the reason to remove one variable\n",
    "\n"
   ]
  },
  {
   "cell_type": "code",
   "execution_count": 60,
   "metadata": {},
   "outputs": [],
   "source": [
    "df=df.drop(['Education','Fnlwgt'],axis=1)"
   ]
  },
  {
   "cell_type": "code",
   "execution_count": 61,
   "metadata": {},
   "outputs": [
    {
     "data": {
      "image/png": "[encoded data removed]",
      "text/plain": [
       "<Figure size 1440x7200 with 13 Axes>"
      ]
     },
     "metadata": {
      "needs_background": "light"
     },
     "output_type": "display_data"
    }
   ],
   "source": [
    "collist=df.columns.values\n",
    "ncol=20\n",
    "nrows=14\n",
    "plt.figure(figsize=(ncol,5*ncol))\n",
    "for i in range(0,len(collist)):\n",
    "    plt.subplot(nrows,ncol,i+1)\n",
    "    sns.boxplot(df[collist[i]],color='green',orient='v')\n",
    "    plt.tight_layout()"
   ]
  },
  {
   "cell_type": "code",
   "execution_count": 62,
   "metadata": {},
   "outputs": [],
   "source": [
    "from scipy.stats import zscore\n",
    "import numpy as np"
   ]
  },
  {
   "cell_type": "code",
   "execution_count": 63,
   "metadata": {},
   "outputs": [
    {
     "data": {
      "text/plain": [
       "array([[0.83749664, 1.46388339, 1.13477863, ..., 2.25444135, 0.29157343,\n",
       "        0.5632099 ],\n",
       "       [0.042559  , 0.09012148, 0.42002663, ..., 0.03112222, 0.29157343,\n",
       "        0.5632099 ],\n",
       "       [1.05751055, 0.09012148, 1.19742926, ..., 0.03112222, 0.29157343,\n",
       "        0.5632099 ],\n",
       "       ...,\n",
       "       [1.42420039, 0.09012148, 0.42002663, ..., 0.03112222, 0.29157343,\n",
       "        0.5632099 ],\n",
       "       [1.21596651, 0.09012148, 0.42002663, ..., 1.67802528, 0.29157343,\n",
       "        0.5632099 ],\n",
       "       [0.98417258, 0.77700244, 0.42002663, ..., 0.03112222, 0.29157343,\n",
       "        1.77553698]])"
      ]
     },
     "execution_count": 63,
     "metadata": {},
     "output_type": "execute_result"
    }
   ],
   "source": [
    "z=np.abs(zscore(df))\n",
    "z"
   ]
  },
  {
   "cell_type": "code",
   "execution_count": 64,
   "metadata": {},
   "outputs": [
    {
     "name": "stdout",
     "output_type": "stream",
     "text": [
      "(array([    3,     7,     8, ..., 32550, 32552, 32559], dtype=int64), array([11,  8,  8, ...,  6,  6,  8], dtype=int64))\n"
     ]
    }
   ],
   "source": [
    "threshold=3\n",
    "print(np.where(z>3))"
   ]
  },
  {
   "cell_type": "code",
   "execution_count": 65,
   "metadata": {},
   "outputs": [
    {
     "data": {
      "text/html": [
       "<div>\n",
       "<style scoped>\n",
       "    .dataframe tbody tr th:only-of-type {\n",
       "        vertical-align: middle;\n",
       "    }\n",
       "\n",
       "    .dataframe tbody tr th {\n",
       "        vertical-align: top;\n",
       "    }\n",
       "\n",
       "    .dataframe thead th {\n",
       "        text-align: right;\n",
       "    }\n",
       "</style>\n",
       "<table border=\"1\" class=\"dataframe\">\n",
       "  <thead>\n",
       "    <tr style=\"text-align: right;\">\n",
       "      <th></th>\n",
       "      <th>Age</th>\n",
       "      <th>Workclass</th>\n",
       "      <th>Education_num</th>\n",
       "      <th>Marital_status</th>\n",
       "      <th>Occupation</th>\n",
       "      <th>Relationship</th>\n",
       "      <th>Race</th>\n",
       "      <th>Sex</th>\n",
       "      <th>Capital_gain</th>\n",
       "      <th>Capital_loss</th>\n",
       "      <th>Hours_per_week</th>\n",
       "      <th>Native_country</th>\n",
       "      <th>Income</th>\n",
       "    </tr>\n",
       "  </thead>\n",
       "  <tbody>\n",
       "    <tr>\n",
       "      <th>0</th>\n",
       "      <td>33</td>\n",
       "      <td>6</td>\n",
       "      <td>12</td>\n",
       "      <td>2</td>\n",
       "      <td>4</td>\n",
       "      <td>0</td>\n",
       "      <td>4</td>\n",
       "      <td>1</td>\n",
       "      <td>0</td>\n",
       "      <td>0</td>\n",
       "      <td>12</td>\n",
       "      <td>39</td>\n",
       "      <td>0</td>\n",
       "    </tr>\n",
       "    <tr>\n",
       "      <th>1</th>\n",
       "      <td>21</td>\n",
       "      <td>4</td>\n",
       "      <td>8</td>\n",
       "      <td>0</td>\n",
       "      <td>6</td>\n",
       "      <td>1</td>\n",
       "      <td>4</td>\n",
       "      <td>1</td>\n",
       "      <td>0</td>\n",
       "      <td>0</td>\n",
       "      <td>39</td>\n",
       "      <td>39</td>\n",
       "      <td>0</td>\n",
       "    </tr>\n",
       "    <tr>\n",
       "      <th>2</th>\n",
       "      <td>36</td>\n",
       "      <td>4</td>\n",
       "      <td>6</td>\n",
       "      <td>2</td>\n",
       "      <td>6</td>\n",
       "      <td>0</td>\n",
       "      <td>2</td>\n",
       "      <td>1</td>\n",
       "      <td>0</td>\n",
       "      <td>0</td>\n",
       "      <td>39</td>\n",
       "      <td>39</td>\n",
       "      <td>0</td>\n",
       "    </tr>\n",
       "    <tr>\n",
       "      <th>4</th>\n",
       "      <td>20</td>\n",
       "      <td>4</td>\n",
       "      <td>13</td>\n",
       "      <td>2</td>\n",
       "      <td>4</td>\n",
       "      <td>5</td>\n",
       "      <td>4</td>\n",
       "      <td>0</td>\n",
       "      <td>0</td>\n",
       "      <td>0</td>\n",
       "      <td>39</td>\n",
       "      <td>39</td>\n",
       "      <td>0</td>\n",
       "    </tr>\n",
       "    <tr>\n",
       "      <th>5</th>\n",
       "      <td>32</td>\n",
       "      <td>4</td>\n",
       "      <td>4</td>\n",
       "      <td>3</td>\n",
       "      <td>8</td>\n",
       "      <td>1</td>\n",
       "      <td>2</td>\n",
       "      <td>0</td>\n",
       "      <td>0</td>\n",
       "      <td>0</td>\n",
       "      <td>15</td>\n",
       "      <td>23</td>\n",
       "      <td>0</td>\n",
       "    </tr>\n",
       "    <tr>\n",
       "      <th>...</th>\n",
       "      <td>...</td>\n",
       "      <td>...</td>\n",
       "      <td>...</td>\n",
       "      <td>...</td>\n",
       "      <td>...</td>\n",
       "      <td>...</td>\n",
       "      <td>...</td>\n",
       "      <td>...</td>\n",
       "      <td>...</td>\n",
       "      <td>...</td>\n",
       "      <td>...</td>\n",
       "      <td>...</td>\n",
       "      <td>...</td>\n",
       "    </tr>\n",
       "    <tr>\n",
       "      <th>32554</th>\n",
       "      <td>5</td>\n",
       "      <td>4</td>\n",
       "      <td>9</td>\n",
       "      <td>4</td>\n",
       "      <td>11</td>\n",
       "      <td>1</td>\n",
       "      <td>4</td>\n",
       "      <td>1</td>\n",
       "      <td>0</td>\n",
       "      <td>0</td>\n",
       "      <td>39</td>\n",
       "      <td>39</td>\n",
       "      <td>0</td>\n",
       "    </tr>\n",
       "    <tr>\n",
       "      <th>32555</th>\n",
       "      <td>10</td>\n",
       "      <td>4</td>\n",
       "      <td>11</td>\n",
       "      <td>2</td>\n",
       "      <td>13</td>\n",
       "      <td>5</td>\n",
       "      <td>4</td>\n",
       "      <td>0</td>\n",
       "      <td>0</td>\n",
       "      <td>0</td>\n",
       "      <td>37</td>\n",
       "      <td>39</td>\n",
       "      <td>0</td>\n",
       "    </tr>\n",
       "    <tr>\n",
       "      <th>32556</th>\n",
       "      <td>23</td>\n",
       "      <td>4</td>\n",
       "      <td>8</td>\n",
       "      <td>2</td>\n",
       "      <td>7</td>\n",
       "      <td>0</td>\n",
       "      <td>4</td>\n",
       "      <td>1</td>\n",
       "      <td>0</td>\n",
       "      <td>0</td>\n",
       "      <td>39</td>\n",
       "      <td>39</td>\n",
       "      <td>1</td>\n",
       "    </tr>\n",
       "    <tr>\n",
       "      <th>32557</th>\n",
       "      <td>41</td>\n",
       "      <td>4</td>\n",
       "      <td>8</td>\n",
       "      <td>6</td>\n",
       "      <td>1</td>\n",
       "      <td>4</td>\n",
       "      <td>4</td>\n",
       "      <td>0</td>\n",
       "      <td>0</td>\n",
       "      <td>0</td>\n",
       "      <td>39</td>\n",
       "      <td>39</td>\n",
       "      <td>0</td>\n",
       "    </tr>\n",
       "    <tr>\n",
       "      <th>32558</th>\n",
       "      <td>5</td>\n",
       "      <td>4</td>\n",
       "      <td>8</td>\n",
       "      <td>4</td>\n",
       "      <td>1</td>\n",
       "      <td>3</td>\n",
       "      <td>4</td>\n",
       "      <td>1</td>\n",
       "      <td>0</td>\n",
       "      <td>0</td>\n",
       "      <td>19</td>\n",
       "      <td>39</td>\n",
       "      <td>0</td>\n",
       "    </tr>\n",
       "  </tbody>\n",
       "</table>\n",
       "<p>26735 rows × 13 columns</p>\n",
       "</div>"
      ],
      "text/plain": [
       "       Age  Workclass  Education_num  Marital_status  Occupation  \\\n",
       "0       33          6             12               2           4   \n",
       "1       21          4              8               0           6   \n",
       "2       36          4              6               2           6   \n",
       "4       20          4             13               2           4   \n",
       "5       32          4              4               3           8   \n",
       "...    ...        ...            ...             ...         ...   \n",
       "32554    5          4              9               4          11   \n",
       "32555   10          4             11               2          13   \n",
       "32556   23          4              8               2           7   \n",
       "32557   41          4              8               6           1   \n",
       "32558    5          4              8               4           1   \n",
       "\n",
       "       Relationship  Race  Sex  Capital_gain  Capital_loss  Hours_per_week  \\\n",
       "0                 0     4    1             0             0              12   \n",
       "1                 1     4    1             0             0              39   \n",
       "2                 0     2    1             0             0              39   \n",
       "4                 5     4    0             0             0              39   \n",
       "5                 1     2    0             0             0              15   \n",
       "...             ...   ...  ...           ...           ...             ...   \n",
       "32554             1     4    1             0             0              39   \n",
       "32555             5     4    0             0             0              37   \n",
       "32556             0     4    1             0             0              39   \n",
       "32557             4     4    0             0             0              39   \n",
       "32558             3     4    1             0             0              19   \n",
       "\n",
       "       Native_country  Income  \n",
       "0                  39       0  \n",
       "1                  39       0  \n",
       "2                  39       0  \n",
       "4                  39       0  \n",
       "5                  23       0  \n",
       "...               ...     ...  \n",
       "32554              39       0  \n",
       "32555              39       0  \n",
       "32556              39       1  \n",
       "32557              39       0  \n",
       "32558              39       0  \n",
       "\n",
       "[26735 rows x 13 columns]"
      ]
     },
     "execution_count": 65,
     "metadata": {},
     "output_type": "execute_result"
    }
   ],
   "source": [
    "df_new=df[(z<3) .all(axis=1)]\n",
    "df_new"
   ]
  },
  {
   "cell_type": "code",
   "execution_count": 66,
   "metadata": {},
   "outputs": [
    {
     "name": "stdout",
     "output_type": "stream",
     "text": [
      "(32560, 13)\n",
      "(26735, 13)\n"
     ]
    }
   ],
   "source": [
    "print(df.shape)\n",
    "print(df_new.shape)"
   ]
  },
  {
   "cell_type": "code",
   "execution_count": 67,
   "metadata": {},
   "outputs": [
    {
     "name": "stdout",
     "output_type": "stream",
     "text": [
      "17.89004914004914\n"
     ]
    }
   ],
   "source": [
    "loss_percent=(32560-26735)/32560*100\n",
    "print(loss_percent)"
   ]
  },
  {
   "cell_type": "code",
   "execution_count": 68,
   "metadata": {},
   "outputs": [],
   "source": [
    "x=df_new.drop('Income',axis=1)\n",
    "y=df_new['Income']"
   ]
  },
  {
   "cell_type": "code",
   "execution_count": 69,
   "metadata": {},
   "outputs": [
    {
     "data": {
      "text/plain": [
       "0    21646\n",
       "1     5089\n",
       "Name: Income, dtype: int64"
      ]
     },
     "execution_count": 69,
     "metadata": {},
     "output_type": "execute_result"
    }
   ],
   "source": [
    "y.value_counts()"
   ]
  },
  {
   "cell_type": "code",
   "execution_count": 70,
   "metadata": {},
   "outputs": [
    {
     "data": {
      "text/plain": [
       "Age               0.512903\n",
       "Workclass        -0.746686\n",
       "Education_num    -0.150206\n",
       "Marital_status   -0.086741\n",
       "Occupation        0.136047\n",
       "Relationship      0.709768\n",
       "Race             -2.524414\n",
       "Sex              -0.649131\n",
       "Capital_gain      6.044493\n",
       "Capital_loss      9.786982\n",
       "Hours_per_week   -0.382335\n",
       "Native_country   -5.338005\n",
       "dtype: float64"
      ]
     },
     "execution_count": 70,
     "metadata": {},
     "output_type": "execute_result"
    }
   ],
   "source": [
    "x.skew()"
   ]
  },
  {
   "cell_type": "markdown",
   "metadata": {},
   "source": [
    "Workclass,Relationship,Race,Sex,Capital_gain,Capital_loss,Native_country these are positively and negitively skewed."
   ]
  },
  {
   "cell_type": "code",
   "execution_count": 71,
   "metadata": {},
   "outputs": [
    {
     "data": {
      "text/plain": [
       "<AxesSubplot:xlabel='Workclass', ylabel='Density'>"
      ]
     },
     "execution_count": 71,
     "metadata": {},
     "output_type": "execute_result"
    },
    {
     "data": {
      "image/png": "[encoded data removed]",
      "text/plain": [
       "<Figure size 432x288 with 1 Axes>"
      ]
     },
     "metadata": {
      "needs_background": "light"
     },
     "output_type": "display_data"
    }
   ],
   "source": [
    "sns.distplot(df_new['Workclass'])"
   ]
  },
  {
   "cell_type": "code",
   "execution_count": 72,
   "metadata": {},
   "outputs": [
    {
     "data": {
      "text/plain": [
       "<AxesSubplot:xlabel='Relationship', ylabel='Density'>"
      ]
     },
     "execution_count": 72,
     "metadata": {},
     "output_type": "execute_result"
    },
    {
     "data": {
      "image/png": "[encoded data removed]",
      "text/plain": [
       "<Figure size 432x288 with 1 Axes>"
      ]
     },
     "metadata": {
      "needs_background": "light"
     },
     "output_type": "display_data"
    }
   ],
   "source": [
    "sns.distplot(df_new['Relationship'])"
   ]
  },
  {
   "cell_type": "code",
   "execution_count": 73,
   "metadata": {},
   "outputs": [
    {
     "data": {
      "text/plain": [
       "<AxesSubplot:xlabel='Race', ylabel='Density'>"
      ]
     },
     "execution_count": 73,
     "metadata": {},
     "output_type": "execute_result"
    },
    {
     "data": {
      "image/png": "[encoded data removed]",
      "text/plain": [
       "<Figure size 432x288 with 1 Axes>"
      ]
     },
     "metadata": {
      "needs_background": "light"
     },
     "output_type": "display_data"
    }
   ],
   "source": [
    "sns.distplot(df_new['Race'])"
   ]
  },
  {
   "cell_type": "code",
   "execution_count": 74,
   "metadata": {},
   "outputs": [
    {
     "data": {
      "text/plain": [
       "<AxesSubplot:xlabel='Sex', ylabel='Density'>"
      ]
     },
     "execution_count": 74,
     "metadata": {},
     "output_type": "execute_result"
    },
    {
     "data": {
      "image/png": "[encoded data removed]",
      "text/plain": [
       "<Figure size 432x288 with 1 Axes>"
      ]
     },
     "metadata": {
      "needs_background": "light"
     },
     "output_type": "display_data"
    }
   ],
   "source": [
    "sns.distplot(df_new['Sex'])"
   ]
  },
  {
   "cell_type": "code",
   "execution_count": 75,
   "metadata": {},
   "outputs": [
    {
     "data": {
      "text/plain": [
       "<AxesSubplot:xlabel='Capital_gain', ylabel='Density'>"
      ]
     },
     "execution_count": 75,
     "metadata": {},
     "output_type": "execute_result"
    },
    {
     "data": {
      "image/png": "[encoded data removed]",
      "text/plain": [
       "<Figure size 432x288 with 1 Axes>"
      ]
     },
     "metadata": {
      "needs_background": "light"
     },
     "output_type": "display_data"
    }
   ],
   "source": [
    "sns.distplot(df_new['Capital_gain'])"
   ]
  },
  {
   "cell_type": "code",
   "execution_count": 76,
   "metadata": {},
   "outputs": [
    {
     "data": {
      "text/plain": [
       "<AxesSubplot:xlabel='Capital_loss', ylabel='Density'>"
      ]
     },
     "execution_count": 76,
     "metadata": {},
     "output_type": "execute_result"
    },
    {
     "data": {
      "image/png": "[encoded data removed]",
      "text/plain": [
       "<Figure size 432x288 with 1 Axes>"
      ]
     },
     "metadata": {
      "needs_background": "light"
     },
     "output_type": "display_data"
    }
   ],
   "source": [
    "sns.distplot(df_new['Capital_loss'])"
   ]
  },
  {
   "cell_type": "code",
   "execution_count": 77,
   "metadata": {},
   "outputs": [
    {
     "data": {
      "text/plain": [
       "<AxesSubplot:xlabel='Native_country', ylabel='Density'>"
      ]
     },
     "execution_count": 77,
     "metadata": {},
     "output_type": "execute_result"
    },
    {
     "data": {
      "image/png": "[encoded data removed]",
      "text/plain": [
       "<Figure size 432x288 with 1 Axes>"
      ]
     },
     "metadata": {
      "needs_background": "light"
     },
     "output_type": "display_data"
    }
   ],
   "source": [
    "sns.distplot(df_new['Native_country'])"
   ]
  },
  {
   "cell_type": "code",
   "execution_count": 78,
   "metadata": {},
   "outputs": [],
   "source": [
    "from sklearn.preprocessing import power_transform\n",
    "x=power_transform(x,method=\"yeo-johnson\")"
   ]
  },
  {
   "cell_type": "code",
   "execution_count": 79,
   "metadata": {},
   "outputs": [
    {
     "data": {
      "text/plain": [
       "array([[ 0.93192742,  1.66091865,  1.29041427, ..., -0.11550725,\n",
       "        -2.19297782,  0.17673997],\n",
       "       [ 0.17805827,  0.02204012, -0.43193827, ..., -0.11550725,\n",
       "        -0.01830135,  0.17673997],\n",
       "       [ 1.09917956,  0.02204012, -1.24234908, ..., -0.11550725,\n",
       "        -0.01830135,  0.17673997],\n",
       "       ...,\n",
       "       [ 0.31543197,  0.02204012, -0.43193827, ..., -0.11550725,\n",
       "        -0.01830135,  0.17673997],\n",
       "       [ 1.36405656,  0.02204012, -0.43193827, ..., -0.11550725,\n",
       "        -0.01830135,  0.17673997],\n",
       "       [-1.28036754,  0.02204012, -0.43193827, ..., -0.11550725,\n",
       "        -1.70348545,  0.17673997]])"
      ]
     },
     "execution_count": 79,
     "metadata": {},
     "output_type": "execute_result"
    }
   ],
   "source": [
    "x"
   ]
  },
  {
   "cell_type": "code",
   "execution_count": 80,
   "metadata": {},
   "outputs": [
    {
     "data": {
      "text/plain": [
       "array([[ 0.93192742,  1.66091865,  1.29041427, ..., -0.11550725,\n",
       "        -2.19297782,  0.17673997],\n",
       "       [ 0.17805827,  0.02204012, -0.43193827, ..., -0.11550725,\n",
       "        -0.01830135,  0.17673997],\n",
       "       [ 1.09917956,  0.02204012, -1.24234908, ..., -0.11550725,\n",
       "        -0.01830135,  0.17673997],\n",
       "       ...,\n",
       "       [ 0.31543197,  0.02204012, -0.43193827, ..., -0.11550725,\n",
       "        -0.01830135,  0.17673997],\n",
       "       [ 1.36405656,  0.02204012, -0.43193827, ..., -0.11550725,\n",
       "        -0.01830135,  0.17673997],\n",
       "       [-1.28036754,  0.02204012, -0.43193827, ..., -0.11550725,\n",
       "        -1.70348545,  0.17673997]])"
      ]
     },
     "execution_count": 80,
     "metadata": {},
     "output_type": "execute_result"
    }
   ],
   "source": [
    "from sklearn.preprocessing import StandardScaler\n",
    "sn=StandardScaler()\n",
    "x=sn.fit_transform(x)\n",
    "x"
   ]
  },
  {
   "cell_type": "code",
   "execution_count": 81,
   "metadata": {},
   "outputs": [
    {
     "name": "stdout",
     "output_type": "stream",
     "text": [
      "(26735, 12)\n",
      "(26735,)\n"
     ]
    }
   ],
   "source": [
    "print(x.shape)\n",
    "print(y.shape)"
   ]
  },
  {
   "cell_type": "code",
   "execution_count": 82,
   "metadata": {},
   "outputs": [],
   "source": [
    "from sklearn.model_selection import train_test_split\n",
    "x_train,x_test,y_train,y_test=train_test_split(x,y,random_state=42,test_size=0.20)"
   ]
  },
  {
   "cell_type": "code",
   "execution_count": 83,
   "metadata": {},
   "outputs": [
    {
     "name": "stdout",
     "output_type": "stream",
     "text": [
      "(21388, 12)\n",
      "(21388,)\n",
      "(5347, 12)\n",
      "(5347,)\n"
     ]
    }
   ],
   "source": [
    "print(x_train.shape)\n",
    "print(y_train.shape)\n",
    "print(x_test.shape)\n",
    "print(y_test.shape)"
   ]
  },
  {
   "cell_type": "code",
   "execution_count": 84,
   "metadata": {},
   "outputs": [],
   "source": [
    "from imblearn.over_sampling import SMOTE"
   ]
  },
  {
   "cell_type": "code",
   "execution_count": 85,
   "metadata": {},
   "outputs": [],
   "source": [
    "smt=SMOTE()\n",
    "x_train, y_train = smt.fit_resample(x_train, y_train)"
   ]
  },
  {
   "cell_type": "code",
   "execution_count": 86,
   "metadata": {},
   "outputs": [
    {
     "data": {
      "text/plain": [
       "array([[-0.72038076,  0.02204012, -0.43193827, ..., -0.11550725,\n",
       "        -0.01830135, -4.27361897],\n",
       "       [-0.19438772,  0.02204012, -2.71735408, ..., -0.11550725,\n",
       "        -0.01830135, -4.27361204],\n",
       "       [ 0.93192742, -2.26927063, -0.43193827, ..., -0.11550725,\n",
       "         1.44781638,  0.17673997],\n",
       "       ...,\n",
       "       [ 0.24746319,  0.02204012, -0.43193827, ..., -0.11550725,\n",
       "        -0.01830135,  0.17673997],\n",
       "       [ 1.15879808,  0.02204012,  1.73866218, ..., -0.11550725,\n",
       "        -0.01830135,  0.17673997],\n",
       "       [-0.18864036,  0.02204012,  1.29041427, ..., -0.11550725,\n",
       "        -0.01830135,  0.17673997]])"
      ]
     },
     "execution_count": 86,
     "metadata": {},
     "output_type": "execute_result"
    }
   ],
   "source": [
    "x_train"
   ]
  },
  {
   "cell_type": "code",
   "execution_count": 87,
   "metadata": {},
   "outputs": [
    {
     "data": {
      "text/plain": [
       "0        0\n",
       "1        0\n",
       "2        1\n",
       "3        0\n",
       "4        0\n",
       "        ..\n",
       "34579    1\n",
       "34580    1\n",
       "34581    1\n",
       "34582    1\n",
       "34583    1\n",
       "Name: Income, Length: 34584, dtype: int32"
      ]
     },
     "execution_count": 87,
     "metadata": {},
     "output_type": "execute_result"
    }
   ],
   "source": [
    "y_train"
   ]
  },
  {
   "cell_type": "code",
   "execution_count": 88,
   "metadata": {},
   "outputs": [
    {
     "data": {
      "text/plain": [
       "1    17292\n",
       "0    17292\n",
       "Name: Income, dtype: int64"
      ]
     },
     "execution_count": 88,
     "metadata": {},
     "output_type": "execute_result"
    }
   ],
   "source": [
    "y_train.value_counts()"
   ]
  },
  {
   "cell_type": "code",
   "execution_count": 89,
   "metadata": {},
   "outputs": [],
   "source": [
    "import sklearn\n",
    "from sklearn.tree import DecisionTreeClassifier\n",
    "from sklearn.linear_model import LogisticRegression\n",
    "lm=LogisticRegression()\n",
    "from sklearn.metrics import accuracy_score\n",
    "from sklearn.metrics import confusion_matrix,classification_report,f1_score"
   ]
  },
  {
   "cell_type": "code",
   "execution_count": 90,
   "metadata": {},
   "outputs": [
    {
     "name": "stdout",
     "output_type": "stream",
     "text": [
      "LogisticRegression()\n",
      "0.7588769373120519\n"
     ]
    }
   ],
   "source": [
    "print(lm.fit(x_train,y_train))\n",
    "print(lm.score(x_train,y_train))"
   ]
  },
  {
   "cell_type": "code",
   "execution_count": 91,
   "metadata": {},
   "outputs": [
    {
     "name": "stdout",
     "output_type": "stream",
     "text": [
      "predicted result score: [0 0 1 ... 1 0 0]\n",
      "actual score: 15066    0\n",
      "23845    0\n",
      "14179    1\n",
      "30556    0\n",
      "5692     0\n",
      "        ..\n",
      "29092    1\n",
      "30576    0\n",
      "5686     0\n",
      "17916    0\n",
      "11777    0\n",
      "Name: Income, Length: 5347, dtype: int32\n"
     ]
    }
   ],
   "source": [
    "pred=lm.predict(x_test)\n",
    "print(\"predicted result score:\",pred)\n",
    "print(\"actual score:\",y_test)"
   ]
  },
  {
   "cell_type": "code",
   "execution_count": 92,
   "metadata": {},
   "outputs": [
    {
     "name": "stdout",
     "output_type": "stream",
     "text": [
      "Accuracy_score: 0.7409762483635683\n",
      "[[3175 1179]\n",
      " [ 206  787]]\n",
      "              precision    recall  f1-score   support\n",
      "\n",
      "           0       0.94      0.73      0.82      4354\n",
      "           1       0.40      0.79      0.53       993\n",
      "\n",
      "    accuracy                           0.74      5347\n",
      "   macro avg       0.67      0.76      0.68      5347\n",
      "weighted avg       0.84      0.74      0.77      5347\n",
      "\n",
      "F1 score 0.7409762483635682\n"
     ]
    }
   ],
   "source": [
    "print(\"Accuracy_score:\",accuracy_score(y_test,pred))\n",
    "print(confusion_matrix(y_test,pred))\n",
    "print(classification_report(y_test,pred))\n",
    "print('F1 score',f1_score(y_test,pred,average='micro'))"
   ]
  },
  {
   "cell_type": "markdown",
   "metadata": {},
   "source": [
    "# Hyper tuning for Logistic Classifier"
   ]
  },
  {
   "cell_type": "code",
   "execution_count": 93,
   "metadata": {},
   "outputs": [
    {
     "name": "stdout",
     "output_type": "stream",
     "text": [
      "tuned hpyerparameters :(best parameters)  {'C': 0.001, 'penalty': 'l2'}\n",
      "accuracy : 0.7607270979503599\n"
     ]
    }
   ],
   "source": [
    "from sklearn.model_selection import GridSearchCV\n",
    "grid={\"C\":np.logspace(-3,3,7), \"penalty\":[\"l1\",\"l2\"]}# l1 lasso l2 ridge\n",
    "lm_cv=GridSearchCV(lm,grid,cv=10)\n",
    "lm_cv.fit(x_train,y_train)\n",
    "print(\"tuned hpyerparameters :(best parameters) \",lm_cv.best_params_)\n",
    "print(\"accuracy :\",lm_cv.best_score_)"
   ]
  },
  {
   "cell_type": "code",
   "execution_count": 94,
   "metadata": {},
   "outputs": [],
   "source": [
    "from sklearn.svm import SVC\n",
    "from sklearn.tree import DecisionTreeClassifier\n",
    "from sklearn.neighbors import KNeighborsClassifier\n",
    "from sklearn.model_selection import GridSearchCV"
   ]
  },
  {
   "cell_type": "code",
   "execution_count": 95,
   "metadata": {},
   "outputs": [],
   "source": [
    "svc=SVC()\n",
    "dtc=DecisionTreeClassifier()\n",
    "knn=KNeighborsClassifier()"
   ]
  },
  {
   "cell_type": "code",
   "execution_count": 96,
   "metadata": {},
   "outputs": [],
   "source": [
    "def fun(f):\n",
    "    f.fit(x_train,y_train)\n",
    "    pred=f.predict(x_test)\n",
    "    print(f.score(x_train,y_train))\n",
    "    print('Accuracy::',accuracy_score(y_test,pred))\n",
    "    print('confusion matrix\\n',confusion_matrix(y_test,pred)) \n",
    "    print('classification report\\n',classification_report(y_test,pred))\n",
    "    print('F1 score',f1_score(y_test,pred,average='micro'))"
   ]
  },
  {
   "cell_type": "code",
   "execution_count": 97,
   "metadata": {},
   "outputs": [
    {
     "name": "stdout",
     "output_type": "stream",
     "text": [
      "0.8280996992829054\n",
      "Accuracy:: 0.7755750888348607\n",
      "confusion matrix\n",
      " [[3304 1050]\n",
      " [ 150  843]]\n",
      "classification report\n",
      "               precision    recall  f1-score   support\n",
      "\n",
      "           0       0.96      0.76      0.85      4354\n",
      "           1       0.45      0.85      0.58       993\n",
      "\n",
      "    accuracy                           0.78      5347\n",
      "   macro avg       0.70      0.80      0.72      5347\n",
      "weighted avg       0.86      0.78      0.80      5347\n",
      "\n",
      "F1 score 0.7755750888348606\n"
     ]
    }
   ],
   "source": [
    "fun(svc)"
   ]
  },
  {
   "cell_type": "code",
   "execution_count": 98,
   "metadata": {},
   "outputs": [
    {
     "name": "stdout",
     "output_type": "stream",
     "text": [
      "0.9821304649548924\n",
      "Accuracy:: 0.8006358705816345\n",
      "confusion matrix\n",
      " [[3812  542]\n",
      " [ 524  469]]\n",
      "classification report\n",
      "               precision    recall  f1-score   support\n",
      "\n",
      "           0       0.88      0.88      0.88      4354\n",
      "           1       0.46      0.47      0.47       993\n",
      "\n",
      "    accuracy                           0.80      5347\n",
      "   macro avg       0.67      0.67      0.67      5347\n",
      "weighted avg       0.80      0.80      0.80      5347\n",
      "\n",
      "F1 score 0.8006358705816347\n"
     ]
    }
   ],
   "source": [
    "fun(dtc)"
   ]
  },
  {
   "cell_type": "code",
   "execution_count": 99,
   "metadata": {},
   "outputs": [
    {
     "name": "stdout",
     "output_type": "stream",
     "text": [
      "0.8981609993060374\n",
      "Accuracy:: 0.7881054797082476\n",
      "confusion matrix\n",
      " [[3504  850]\n",
      " [ 283  710]]\n",
      "classification report\n",
      "               precision    recall  f1-score   support\n",
      "\n",
      "           0       0.93      0.80      0.86      4354\n",
      "           1       0.46      0.72      0.56       993\n",
      "\n",
      "    accuracy                           0.79      5347\n",
      "   macro avg       0.69      0.76      0.71      5347\n",
      "weighted avg       0.84      0.79      0.80      5347\n",
      "\n",
      "F1 score 0.7881054797082476\n"
     ]
    }
   ],
   "source": [
    "fun(knn)"
   ]
  },
  {
   "cell_type": "code",
   "execution_count": 100,
   "metadata": {},
   "outputs": [
    {
     "name": "stdout",
     "output_type": "stream",
     "text": [
      "{'criterion': 'entropy', 'max_features': 'log2', 'splitter': 'best'}\n",
      "DecisionTreeClassifier(criterion='entropy', max_features='log2')\n",
      "0.8083785300168319\n"
     ]
    }
   ],
   "source": [
    "from sklearn.model_selection import GridSearchCV\n",
    "params = {\"criterion\":['gini','entropy'],\"splitter\":['best','random'],\"max_features\":['auto', 'sqrt', 'log2']}\n",
    "grid_search_cv = GridSearchCV(dtc,param_grid=params)\n",
    "grid_search_cv.fit(x,y)\n",
    "print(grid_search_cv.best_params_)\n",
    "print(grid_search_cv.best_estimator_)\n",
    "print(grid_search_cv.best_score_)"
   ]
  },
  {
   "cell_type": "code",
   "execution_count": 101,
   "metadata": {},
   "outputs": [
    {
     "name": "stdout",
     "output_type": "stream",
     "text": [
      "Fitting 10 folds for each of 4 candidates, totalling 40 fits\n",
      "{'kernel': 'rbf'}\n",
      "SVC()\n",
      "0.8466432937927995\n"
     ]
    }
   ],
   "source": [
    "params={'kernel':['linear','rbf','poly','sigmoid']}\n",
    "grid_search_cv = GridSearchCV(svc,param_grid=params,cv=10,verbose=1,n_jobs=-1)\n",
    "grid_search_cv.fit(x,y)\n",
    "print(grid_search_cv.best_params_)\n",
    "print(grid_search_cv.best_estimator_)\n",
    "print(grid_search_cv.best_score_)"
   ]
  },
  {
   "cell_type": "code",
   "execution_count": 102,
   "metadata": {},
   "outputs": [
    {
     "name": "stdout",
     "output_type": "stream",
     "text": [
      "{'algorithm': 'auto', 'n_neighbors': 11, 'weights': 'uniform'}\n",
      "KNeighborsClassifier(n_neighbors=11)\n",
      "0.8457452777258275\n"
     ]
    }
   ],
   "source": [
    "from sklearn.model_selection import GridSearchCV\n",
    "params = {\"n_neighbors\":[7,5,11],\"weights\":['uniform','distance'],\"algorithm\":['auto', 'brute']}\n",
    "grid_search_cv = GridSearchCV(knn,param_grid=params)\n",
    "grid_search_cv.fit(x,y)\n",
    "print(grid_search_cv.best_params_)\n",
    "print(grid_search_cv.best_estimator_)\n",
    "print(grid_search_cv.best_score_)"
   ]
  },
  {
   "cell_type": "code",
   "execution_count": 103,
   "metadata": {},
   "outputs": [],
   "source": [
    "# Random Forest CLassifier\n",
    "from sklearn.ensemble import RandomForestClassifier\n",
    "from sklearn.metrics import classification_report\n",
    "from sklearn.ensemble import AdaBoostClassifier"
   ]
  },
  {
   "cell_type": "code",
   "execution_count": 104,
   "metadata": {},
   "outputs": [],
   "source": [
    "rf=RandomForestClassifier(n_estimators=100,random_state=4)\n",
    "ad=AdaBoostClassifier()"
   ]
  },
  {
   "cell_type": "code",
   "execution_count": 105,
   "metadata": {},
   "outputs": [
    {
     "name": "stdout",
     "output_type": "stream",
     "text": [
      "0.8421235253296322\n",
      "Accuracy:: 0.8126051991771086\n",
      "confusion matrix\n",
      " [[3549  805]\n",
      " [ 197  796]]\n",
      "classification report\n",
      "               precision    recall  f1-score   support\n",
      "\n",
      "           0       0.95      0.82      0.88      4354\n",
      "           1       0.50      0.80      0.61       993\n",
      "\n",
      "    accuracy                           0.81      5347\n",
      "   macro avg       0.72      0.81      0.75      5347\n",
      "weighted avg       0.86      0.81      0.83      5347\n",
      "\n",
      "F1 score 0.8126051991771085\n"
     ]
    }
   ],
   "source": [
    "fun(ad)"
   ]
  },
  {
   "cell_type": "code",
   "execution_count": 106,
   "metadata": {},
   "outputs": [
    {
     "name": "stdout",
     "output_type": "stream",
     "text": [
      "0.9821015498496415\n",
      "Accuracy:: 0.8281279221993642\n",
      "confusion matrix\n",
      " [[3907  447]\n",
      " [ 472  521]]\n",
      "classification report\n",
      "               precision    recall  f1-score   support\n",
      "\n",
      "           0       0.89      0.90      0.89      4354\n",
      "           1       0.54      0.52      0.53       993\n",
      "\n",
      "    accuracy                           0.83      5347\n",
      "   macro avg       0.72      0.71      0.71      5347\n",
      "weighted avg       0.83      0.83      0.83      5347\n",
      "\n",
      "F1 score 0.8281279221993642\n"
     ]
    }
   ],
   "source": [
    "fun(rf)"
   ]
  },
  {
   "cell_type": "code",
   "execution_count": 107,
   "metadata": {},
   "outputs": [
    {
     "data": {
      "image/png": "[encoded data removed]",
      "text/plain": [
       "<Figure size 432x288 with 1 Axes>"
      ]
     },
     "metadata": {
      "needs_background": "light"
     },
     "output_type": "display_data"
    }
   ],
   "source": [
    "from sklearn.metrics import roc_curve,auc\n",
    "fpr,tpr,thresholds=roc_curve(pred,y_test)\n",
    "roc_auc=auc(fpr,tpr)\n",
    "\n",
    "plt.figure()\n",
    "plt.plot(fpr,tpr,color='darkorange',lw=10,label='ROC curve9area=%0.2f' %roc_auc)\n",
    "plt.plot([0,1],[0,1],color='navy',lw=10,linestyle='--')\n",
    "plt.xlim([0.0,1.0])\n",
    "plt.ylim([0.0,1.05])\n",
    "plt.xlabel('False Positive Rate')\n",
    "plt.ylabel('True Positive Rate')\n",
    "plt.title('Receiver Operating Characteristic')\n",
    "plt.legend(loc='lower right')\n",
    "plt.show()"
   ]
  },
  {
   "cell_type": "code",
   "execution_count": 108,
   "metadata": {},
   "outputs": [],
   "source": [
    "#cross Validation\n",
    "from sklearn.model_selection import cross_val_score\n",
    "from sklearn.model_selection import KFold"
   ]
  },
  {
   "cell_type": "code",
   "execution_count": 109,
   "metadata": {},
   "outputs": [
    {
     "name": "stdout",
     "output_type": "stream",
     "text": [
      "At Value of 2 0.8371423085792753\n",
      "At Value of 3 0.8369553603454495\n",
      "At Value of 4 0.8369926915144072\n",
      "At Value of 5 0.8369927061903871\n",
      "At Value of 6 0.837067437793051\n",
      "At Value of 7 0.8371050114933344\n",
      "At Value of 8 0.8369924666982279\n",
      "At Value of 9 0.8371796804198913\n"
     ]
    }
   ],
   "source": [
    "for i in range(2,10):\n",
    "    score=cross_val_score(lm,x,y,cv=i)\n",
    "    print('At Value of',i,score.mean())"
   ]
  },
  {
   "cell_type": "code",
   "execution_count": 110,
   "metadata": {},
   "outputs": [
    {
     "data": {
      "text/plain": [
       "0.837104877971661"
      ]
     },
     "execution_count": 110,
     "metadata": {},
     "output_type": "execute_result"
    }
   ],
   "source": [
    "score=cross_val_score(lm,x,y,cv=10)\n",
    "score.mean()"
   ]
  },
  {
   "cell_type": "code",
   "execution_count": 111,
   "metadata": {},
   "outputs": [
    {
     "data": {
      "text/plain": [
       "0.8035538912211397"
      ]
     },
     "execution_count": 111,
     "metadata": {},
     "output_type": "execute_result"
    }
   ],
   "source": [
    "score=cross_val_score(dtc,x,y,cv=10)\n",
    "score.mean()"
   ]
  },
  {
   "cell_type": "code",
   "execution_count": 112,
   "metadata": {},
   "outputs": [
    {
     "data": {
      "text/plain": [
       "0.8466432937927995"
      ]
     },
     "execution_count": 112,
     "metadata": {},
     "output_type": "execute_result"
    }
   ],
   "source": [
    "score=cross_val_score(svc,x,y,cv=10)\n",
    "score.mean()"
   ]
  },
  {
   "cell_type": "code",
   "execution_count": 113,
   "metadata": {},
   "outputs": [
    {
     "data": {
      "text/plain": [
       "0.8375914047816316"
      ]
     },
     "execution_count": 113,
     "metadata": {},
     "output_type": "execute_result"
    }
   ],
   "source": [
    "score=cross_val_score(rf,x,y,cv=10)\n",
    "score.mean()"
   ]
  },
  {
   "cell_type": "code",
   "execution_count": 114,
   "metadata": {},
   "outputs": [
    {
     "data": {
      "text/plain": [
       "0.8532268164903417"
      ]
     },
     "execution_count": 114,
     "metadata": {},
     "output_type": "execute_result"
    }
   ],
   "source": [
    "score=cross_val_score(ad,x,y,cv=10)\n",
    "score.mean()"
   ]
  },
  {
   "cell_type": "markdown",
   "metadata": {},
   "source": [
    "As per the test score,Accuracy,f1_score and cv value random forest is giving the good result."
   ]
  },
  {
   "cell_type": "markdown",
   "metadata": {},
   "source": [
    "# Saving Model On Accuracy Score and cross validation score"
   ]
  },
  {
   "cell_type": "code",
   "execution_count": 115,
   "metadata": {},
   "outputs": [],
   "source": [
    "import pickle\n",
    "filename='Poweplant_Primary_Fuel _Prediction.pkl'\n",
    "pickle.dump(rf,open(filename,'wb'))"
   ]
  },
  {
   "cell_type": "markdown",
   "metadata": {},
   "source": [
    "# Conclusion"
   ]
  },
  {
   "cell_type": "code",
   "execution_count": 116,
   "metadata": {},
   "outputs": [
    {
     "name": "stdout",
     "output_type": "stream",
     "text": [
      "       Actual  Predict\n",
      "15066       0        0\n",
      "23845       0        0\n",
      "14179       1        0\n",
      "30556       0        0\n",
      "5692        0        0\n",
      "...       ...      ...\n",
      "29092       1        1\n",
      "30576       0        0\n",
      "5686        0        0\n",
      "17916       0        0\n",
      "11777       0        0\n",
      "\n",
      "[5347 rows x 2 columns]\n"
     ]
    }
   ],
   "source": [
    "res=pd.DataFrame()\n",
    "res['Actual']=y_test\n",
    "res['Predict']=rf.predict(x_test)\n",
    "\n",
    "print(res)"
   ]
  },
  {
   "cell_type": "code",
   "execution_count": null,
   "metadata": {},
   "outputs": [],
   "source": []
  }
 ],
 "metadata": {
  "kernelspec": {
   "display_name": "Python 3",
   "language": "python",
   "name": "python3"
  },
  "language_info": {
   "codemirror_mode": {
    "name": "ipython",
    "version": 3
   },
   "file_extension": ".py",
   "mimetype": "text/x-python",
   "name": "python",
   "nbconvert_exporter": "python",
   "pygments_lexer": "ipython3",
   "version": "3.8.5"
  }
 },
 "nbformat": 4,
 "nbformat_minor": 4
}
